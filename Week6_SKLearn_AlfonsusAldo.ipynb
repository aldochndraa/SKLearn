{
 "cells": [
  {
   "cell_type": "code",
   "execution_count": 1,
   "id": "91a3746e",
   "metadata": {},
   "outputs": [
    {
     "data": {
      "text/html": [
       "<div>\n",
       "<style scoped>\n",
       "    .dataframe tbody tr th:only-of-type {\n",
       "        vertical-align: middle;\n",
       "    }\n",
       "\n",
       "    .dataframe tbody tr th {\n",
       "        vertical-align: top;\n",
       "    }\n",
       "\n",
       "    .dataframe thead th {\n",
       "        text-align: right;\n",
       "    }\n",
       "</style>\n",
       "<table border=\"1\" class=\"dataframe\">\n",
       "  <thead>\n",
       "    <tr style=\"text-align: right;\">\n",
       "      <th></th>\n",
       "      <th>tinggi</th>\n",
       "      <th>berat</th>\n",
       "      <th>jk</th>\n",
       "    </tr>\n",
       "  </thead>\n",
       "  <tbody>\n",
       "    <tr>\n",
       "      <th>0</th>\n",
       "      <td>158</td>\n",
       "      <td>64</td>\n",
       "      <td>pria</td>\n",
       "    </tr>\n",
       "    <tr>\n",
       "      <th>1</th>\n",
       "      <td>170</td>\n",
       "      <td>86</td>\n",
       "      <td>pria</td>\n",
       "    </tr>\n",
       "    <tr>\n",
       "      <th>2</th>\n",
       "      <td>183</td>\n",
       "      <td>84</td>\n",
       "      <td>pria</td>\n",
       "    </tr>\n",
       "    <tr>\n",
       "      <th>3</th>\n",
       "      <td>191</td>\n",
       "      <td>80</td>\n",
       "      <td>pria</td>\n",
       "    </tr>\n",
       "    <tr>\n",
       "      <th>4</th>\n",
       "      <td>155</td>\n",
       "      <td>49</td>\n",
       "      <td>wanita</td>\n",
       "    </tr>\n",
       "    <tr>\n",
       "      <th>5</th>\n",
       "      <td>163</td>\n",
       "      <td>59</td>\n",
       "      <td>wanita</td>\n",
       "    </tr>\n",
       "    <tr>\n",
       "      <th>6</th>\n",
       "      <td>180</td>\n",
       "      <td>67</td>\n",
       "      <td>wanita</td>\n",
       "    </tr>\n",
       "    <tr>\n",
       "      <th>7</th>\n",
       "      <td>158</td>\n",
       "      <td>54</td>\n",
       "      <td>wanita</td>\n",
       "    </tr>\n",
       "    <tr>\n",
       "      <th>8</th>\n",
       "      <td>178</td>\n",
       "      <td>67</td>\n",
       "      <td>wanita</td>\n",
       "    </tr>\n",
       "  </tbody>\n",
       "</table>\n",
       "</div>"
      ],
      "text/plain": [
       "   tinggi  berat      jk\n",
       "0     158     64    pria\n",
       "1     170     86    pria\n",
       "2     183     84    pria\n",
       "3     191     80    pria\n",
       "4     155     49  wanita\n",
       "5     163     59  wanita\n",
       "6     180     67  wanita\n",
       "7     158     54  wanita\n",
       "8     178     67  wanita"
      ]
     },
     "execution_count": 1,
     "metadata": {},
     "output_type": "execute_result"
    }
   ],
   "source": [
    "import pandas as pd\n",
    "\n",
    "sensus= {\n",
    "     'tinggi':[158,170,183,191,155,163,180,158,178],\n",
    "     'berat':[64,86,84,80,49,59,67,54,67],\n",
    "     'jk':[\n",
    "         'pria','pria','pria','pria','wanita','wanita','wanita','wanita','wanita'\n",
    "     ]\n",
    "}\n",
    "sensus_df=pd.DataFrame(sensus)\n",
    "sensus_df"
   ]
  },
  {
   "cell_type": "code",
   "execution_count": 3,
   "id": "4f15aaf6",
   "metadata": {},
   "outputs": [
    {
     "name": "stdout",
     "output_type": "stream",
     "text": [
      "X_train:\n",
      "[[158 'pria']\n",
      " [170 'pria']\n",
      " [183 'pria']\n",
      " [191 'pria']\n",
      " [155 'wanita']\n",
      " [163 'wanita']\n",
      " [180 'wanita']\n",
      " [158 'wanita']\n",
      " [178 'wanita']]\n",
      "\n",
      "y_train:[64 86 84 80 49 59 67 54 67]\n"
     ]
    }
   ],
   "source": [
    "import numpy as np\n",
    "\n",
    "X_train = np.array(sensus_df[['tinggi', 'jk']])\n",
    "y_train = np.array(sensus_df['berat'])\n",
    "\n",
    "print(f'X_train:\\n{X_train}\\n')\n",
    "print(f'y_train:{y_train}')"
   ]
  },
  {
   "cell_type": "code",
   "execution_count": 4,
   "id": "a43ae15d",
   "metadata": {},
   "outputs": [
    {
     "name": "stdout",
     "output_type": "stream",
     "text": [
      "X_train:\n",
      "[[158 'pria']\n",
      " [170 'pria']\n",
      " [183 'pria']\n",
      " [191 'pria']\n",
      " [155 'wanita']\n",
      " [163 'wanita']\n",
      " [180 'wanita']\n",
      " [158 'wanita']\n",
      " [178 'wanita']]\n",
      "\n",
      "X_train_transposed:\n",
      "[[158 170 183 191 155 163 180 158 178]\n",
      " ['pria' 'pria' 'pria' 'pria' 'wanita' 'wanita' 'wanita' 'wanita'\n",
      "  'wanita']]\n"
     ]
    }
   ],
   "source": [
    "X_train_transposed=np.transpose(X_train)\n",
    "\n",
    "print(f'X_train:\\n{X_train}\\n')\n",
    "print(f'X_train_transposed:\\n{X_train_transposed}')"
   ]
  },
  {
   "cell_type": "code",
   "execution_count": 5,
   "id": "e0b400bf",
   "metadata": {},
   "outputs": [
    {
     "name": "stdout",
     "output_type": "stream",
     "text": [
      "jk: ['pria' 'pria' 'pria' 'pria' 'wanita' 'wanita' 'wanita' 'wanita' 'wanita']\n",
      "\n",
      "jk_binarised:\n",
      "[[0]\n",
      " [0]\n",
      " [0]\n",
      " [0]\n",
      " [1]\n",
      " [1]\n",
      " [1]\n",
      " [1]\n",
      " [1]]\n"
     ]
    }
   ],
   "source": [
    "from sklearn.preprocessing import LabelBinarizer\n",
    "\n",
    "lb= LabelBinarizer()\n",
    "jk_binarised= lb.fit_transform(X_train_transposed[1])\n",
    "\n",
    "print(f'jk: {X_train_transposed[1]}\\n')\n",
    "print(f'jk_binarised:\\n{jk_binarised}')"
   ]
  },
  {
   "cell_type": "code",
   "execution_count": 6,
   "id": "23546e14",
   "metadata": {},
   "outputs": [
    {
     "data": {
      "text/plain": [
       "array([0, 0, 0, 0, 1, 1, 1, 1, 1])"
      ]
     },
     "execution_count": 6,
     "metadata": {},
     "output_type": "execute_result"
    }
   ],
   "source": [
    "jk_binarised=jk_binarised.flatten()\n",
    "jk_binarised"
   ]
  },
  {
   "cell_type": "code",
   "execution_count": 7,
   "id": "83111982",
   "metadata": {},
   "outputs": [
    {
     "name": "stdout",
     "output_type": "stream",
     "text": [
      "X_train:\n",
      "[[158 0]\n",
      " [170 0]\n",
      " [183 0]\n",
      " [191 0]\n",
      " [155 1]\n",
      " [163 1]\n",
      " [180 1]\n",
      " [158 1]\n",
      " [178 1]]\n",
      "\n",
      "X_train_transposed:\n",
      "[[158 170 183 191 155 163 180 158 178]\n",
      " [0 0 0 0 1 1 1 1 1]]\n"
     ]
    }
   ],
   "source": [
    "X_train_transposed[1]= jk_binarised\n",
    "X_train=X_train_transposed.transpose()\n",
    "\n",
    "print(f'X_train:\\n{X_train}\\n')\n",
    "print(f'X_train_transposed:\\n{X_train_transposed}')"
   ]
  },
  {
   "cell_type": "code",
   "execution_count": 8,
   "id": "048675eb",
   "metadata": {},
   "outputs": [
    {
     "data": {
      "text/plain": [
       "KNeighborsRegressor(n_neighbors=3)"
      ]
     },
     "execution_count": 8,
     "metadata": {},
     "output_type": "execute_result"
    }
   ],
   "source": [
    "from sklearn.neighbors import KNeighborsRegressor\n",
    "\n",
    "K=3\n",
    "model=KNeighborsRegressor(n_neighbors=K)\n",
    "model.fit(X_train, y_train)"
   ]
  },
  {
   "cell_type": "code",
   "execution_count": 9,
   "id": "0a2c8734",
   "metadata": {},
   "outputs": [
    {
     "data": {
      "text/plain": [
       "array([[155,   1]])"
      ]
     },
     "execution_count": 9,
     "metadata": {},
     "output_type": "execute_result"
    }
   ],
   "source": [
    "X_new=np.array([[155,1]])\n",
    "X_new"
   ]
  },
  {
   "cell_type": "code",
   "execution_count": 10,
   "id": "9fb04c0b",
   "metadata": {},
   "outputs": [
    {
     "data": {
      "text/plain": [
       "array([55.66666667])"
      ]
     },
     "execution_count": 10,
     "metadata": {},
     "output_type": "execute_result"
    }
   ],
   "source": [
    "y_pred=model.predict(X_new)\n",
    "y_pred"
   ]
  },
  {
   "cell_type": "code",
   "execution_count": 11,
   "id": "6b4cdb28",
   "metadata": {},
   "outputs": [
    {
     "name": "stdout",
     "output_type": "stream",
     "text": [
      "X_test:\n",
      "[[168   0]\n",
      " [180   0]\n",
      " [160   1]\n",
      " [169   1]]\n",
      "\n",
      "y_train:[64 86 84 80 49 59 67 54 67]\n"
     ]
    }
   ],
   "source": [
    "X_test=np.array([[168,0],[180,0],[160,1],[169,1]])\n",
    "y_test=np.array([65,96,52,67])\n",
    "print(f'X_test:\\n{X_test}\\n')\n",
    "print(f'y_train:{y_train}')"
   ]
  },
  {
   "cell_type": "code",
   "execution_count": 12,
   "id": "226152ef",
   "metadata": {},
   "outputs": [
    {
     "data": {
      "text/plain": [
       "array([69.66666667, 72.66666667, 59.        , 70.66666667])"
      ]
     },
     "execution_count": 12,
     "metadata": {},
     "output_type": "execute_result"
    }
   ],
   "source": [
    "y_pred=model.predict(X_test)\n",
    "y_pred"
   ]
  },
  {
   "cell_type": "code",
   "execution_count": 13,
   "id": "784afd1f",
   "metadata": {},
   "outputs": [
    {
     "name": "stdout",
     "output_type": "stream",
     "text": [
      "R-squared:0.39200515796260493\n"
     ]
    }
   ],
   "source": [
    "from sklearn.metrics import r2_score\n",
    "\n",
    "r_squared=r2_score(y_test,y_pred)\n",
    "print(f'R-squared:{r_squared}')"
   ]
  },
  {
   "cell_type": "code",
   "execution_count": 14,
   "id": "868d1e65",
   "metadata": {},
   "outputs": [
    {
     "name": "stdout",
     "output_type": "stream",
     "text": [
      "MAE:9.666666666666668\n"
     ]
    }
   ],
   "source": [
    "from sklearn.metrics import mean_absolute_error\n",
    "MAE=mean_absolute_error(y_test, y_pred)\n",
    "print(f'MAE:{MAE}')"
   ]
  },
  {
   "cell_type": "code",
   "execution_count": 15,
   "id": "25a58dc4",
   "metadata": {},
   "outputs": [
    {
     "name": "stdout",
     "output_type": "stream",
     "text": [
      "MSE:157.16666666666663\n"
     ]
    }
   ],
   "source": [
    "from sklearn.metrics import mean_squared_error\n",
    "MSE=mean_squared_error(y_test, y_pred)\n",
    "print(f'MSE:{MSE}')"
   ]
  },
  {
   "cell_type": "code",
   "execution_count": 16,
   "id": "890f8146",
   "metadata": {},
   "outputs": [
    {
     "data": {
      "text/plain": [
       "[1641.097193952875, 1639.488029843463]"
      ]
     },
     "execution_count": 16,
     "metadata": {},
     "output_type": "execute_result"
    }
   ],
   "source": [
    "from scipy.spatial.distance import euclidean\n",
    "\n",
    "X_train=np.array([[1700,0],[1600,1]])\n",
    "X_new=np.array([1640,0])\n",
    "\n",
    "[euclidean(X_new[0],d) for d in X_train]"
   ]
  },
  {
   "cell_type": "code",
   "execution_count": 17,
   "id": "32967100",
   "metadata": {},
   "outputs": [
    {
     "data": {
      "text/plain": [
       "[0.06000000000000005, 1.0007996802557444]"
      ]
     },
     "execution_count": 17,
     "metadata": {},
     "output_type": "execute_result"
    }
   ],
   "source": [
    "X_train = np.array([[1.7,0],[1.6,1]])\n",
    "X_new = np.array([[1.64,0]])\n",
    "\n",
    "[euclidean(X_new[0],d) for d in X_train]"
   ]
  },
  {
   "cell_type": "code",
   "execution_count": 21,
   "id": "63910021",
   "metadata": {},
   "outputs": [],
   "source": [
    "from sklearn.preprocessing import StandardScaler\n",
    "ss=StandardScaler()"
   ]
  },
  {
   "cell_type": "code",
   "execution_count": 24,
   "id": "6307bd00",
   "metadata": {},
   "outputs": [
    {
     "name": "stdout",
     "output_type": "stream",
     "text": [
      "X_train_scaled:\n",
      "[[ 1. -1.]\n",
      " [-1.  1.]]\n",
      "\n",
      "X_new_scaled:[[-0.2 -1. ]]\n",
      "\n",
      "jarak:[1.2000000000000026, 2.1540659228538006]\n"
     ]
    }
   ],
   "source": [
    "X_train=np.array([[1.7,0],[1.6,1]])\n",
    "X_train_scaled=ss.fit_transform(X_train)\n",
    "print(f'X_train_scaled:\\n{X_train_scaled}\\n')\n",
    "\n",
    "X_new=np.array([[1.64,0]])\n",
    "X_new_scaled=ss.transform(X_new)\n",
    "print(f'X_new_scaled:{X_new_scaled}\\n')\n",
    "\n",
    "jarak=[euclidean(X_new_scaled[0],d) for d in X_train_scaled]\n",
    "print(f'jarak:{jarak}')"
   ]
  },
  {
   "cell_type": "code",
   "execution_count": 25,
   "id": "a79ea367",
   "metadata": {},
   "outputs": [
    {
     "name": "stdout",
     "output_type": "stream",
     "text": [
      "X_train_scaled:\n",
      "[[ 1. -1.]\n",
      " [-1.  1.]]\n",
      "\n",
      "X_new_scaled:[[-0.2 -1. ]]\n",
      "\n",
      "jarak:[1.2, 2.154065922853802]\n"
     ]
    }
   ],
   "source": [
    "X_train=np.array([[1700,0],[1600,1]])\n",
    "X_train_scaled=ss.fit_transform(X_train)\n",
    "print(f'X_train_scaled:\\n{X_train_scaled}\\n')\n",
    "\n",
    "X_new=np.array([[1640,0]])\n",
    "X_new_scaled=ss.transform(X_new)\n",
    "print(f'X_new_scaled:{X_new_scaled}\\n')\n",
    "\n",
    "jarak=[euclidean(X_new_scaled[0],d) for d in X_train_scaled]\n",
    "print(f'jarak:{jarak}')"
   ]
  },
  {
   "cell_type": "code",
   "execution_count": 26,
   "id": "8129c3c6",
   "metadata": {},
   "outputs": [],
   "source": [
    "X_train=np.array([[158,0],[170,0],[191,0],[155,1],[163,1],[180,1],[158,1],[170,1]])\n",
    "y_train=np.array([64,86,84,80,49,59,67,54,67])\n",
    "\n",
    "X_test=np.array([[168,0],[180,0],[160,1],[169,1]])\n",
    "y_test=np.array([65,96,52,67])"
   ]
  },
  {
   "cell_type": "code",
   "execution_count": 32,
   "id": "6c83f6dc",
   "metadata": {},
   "outputs": [
    {
     "name": "stdout",
     "output_type": "stream",
     "text": [
      "X_train_scaled:\n",
      "[[-0.87349625 -1.29099445]\n",
      " [ 0.16175856 -1.29099445]\n",
      " [ 1.97345449 -1.29099445]\n",
      " [-1.13230995  0.77459667]\n",
      " [-0.44214008  0.77459667]\n",
      " [ 1.02447091  0.77459667]\n",
      " [-0.87349625  0.77459667]\n",
      " [ 0.16175856  0.77459667]]\n",
      "\n",
      "X_test_scaled:\n",
      "[[-0.0107839  -1.29099445]\n",
      " [ 1.02447091 -1.29099445]\n",
      " [-0.70095378  0.77459667]\n",
      " [ 0.07548733  0.77459667]]\n",
      "\n"
     ]
    }
   ],
   "source": [
    "X_train_scaled=ss.fit_transform(X_train)\n",
    "X_test_scaled=ss.transform(X_test)\n",
    "\n",
    "print(f'X_train_scaled:\\n{X_train_scaled}\\n')\n",
    "print(f'X_test_scaled:\\n{X_test_scaled}\\n')"
   ]
  },
  {
   "cell_type": "markdown",
   "id": "0909447c",
   "metadata": {},
   "source": [
    "model.fit(X_train_scaled, y_train)\n",
    "y_pred=model.predict(X_test_scaled)\n",
    "\n",
    "MAE=mean_absolute_error(y_test, y_pred)\n",
    "MSE=mean_squared_error(y_test, y_pred)\n",
    "\n",
    "print(f'MAE:{MAE}')\n",
    "print(f'MSE:{MSE}')"
   ]
  },
  {
   "cell_type": "code",
   "execution_count": 34,
   "id": "8529ab13",
   "metadata": {},
   "outputs": [
    {
     "ename": "ValueError",
     "evalue": "Found input variables with inconsistent numbers of samples: [8, 9]",
     "output_type": "error",
     "traceback": [
      "\u001b[1;31m---------------------------------------------------------------------------\u001b[0m",
      "\u001b[1;31mValueError\u001b[0m                                Traceback (most recent call last)",
      "\u001b[1;32m~\\AppData\\Local\\Temp/ipykernel_13140/2889849667.py\u001b[0m in \u001b[0;36m<module>\u001b[1;34m\u001b[0m\n\u001b[1;32m----> 1\u001b[1;33m \u001b[0mmodel\u001b[0m\u001b[1;33m.\u001b[0m\u001b[0mfit\u001b[0m\u001b[1;33m(\u001b[0m\u001b[0mX_train_scaled\u001b[0m\u001b[1;33m,\u001b[0m \u001b[0my_train\u001b[0m\u001b[1;33m)\u001b[0m\u001b[1;33m\u001b[0m\u001b[1;33m\u001b[0m\u001b[0m\n\u001b[0m\u001b[0;32m      2\u001b[0m \u001b[0my_pred\u001b[0m\u001b[1;33m=\u001b[0m\u001b[0mmodel\u001b[0m\u001b[1;33m.\u001b[0m\u001b[0mpredict\u001b[0m\u001b[1;33m(\u001b[0m\u001b[0mX_test_scaled\u001b[0m\u001b[1;33m)\u001b[0m\u001b[1;33m\u001b[0m\u001b[1;33m\u001b[0m\u001b[0m\n\u001b[0;32m      3\u001b[0m \u001b[1;33m\u001b[0m\u001b[0m\n\u001b[0;32m      4\u001b[0m \u001b[0mMAE\u001b[0m\u001b[1;33m=\u001b[0m\u001b[0mmean_absolute_error\u001b[0m\u001b[1;33m(\u001b[0m\u001b[0my_test\u001b[0m\u001b[1;33m,\u001b[0m \u001b[0my_pred\u001b[0m\u001b[1;33m)\u001b[0m\u001b[1;33m\u001b[0m\u001b[1;33m\u001b[0m\u001b[0m\n\u001b[0;32m      5\u001b[0m \u001b[0mMSE\u001b[0m\u001b[1;33m=\u001b[0m\u001b[0mmean_squared_error\u001b[0m\u001b[1;33m(\u001b[0m\u001b[0my_test\u001b[0m\u001b[1;33m,\u001b[0m \u001b[0my_pred\u001b[0m\u001b[1;33m)\u001b[0m\u001b[1;33m\u001b[0m\u001b[1;33m\u001b[0m\u001b[0m\n",
      "\u001b[1;32m~\\anaconda3\\lib\\site-packages\\sklearn\\neighbors\\_regression.py\u001b[0m in \u001b[0;36mfit\u001b[1;34m(self, X, y)\u001b[0m\n\u001b[0;32m    188\u001b[0m             \u001b[0mThe\u001b[0m \u001b[0mfitted\u001b[0m \u001b[0mk\u001b[0m\u001b[1;33m-\u001b[0m\u001b[0mnearest\u001b[0m \u001b[0mneighbors\u001b[0m \u001b[0mregressor\u001b[0m\u001b[1;33m.\u001b[0m\u001b[1;33m\u001b[0m\u001b[1;33m\u001b[0m\u001b[0m\n\u001b[0;32m    189\u001b[0m         \"\"\"\n\u001b[1;32m--> 190\u001b[1;33m         \u001b[1;32mreturn\u001b[0m \u001b[0mself\u001b[0m\u001b[1;33m.\u001b[0m\u001b[0m_fit\u001b[0m\u001b[1;33m(\u001b[0m\u001b[0mX\u001b[0m\u001b[1;33m,\u001b[0m \u001b[0my\u001b[0m\u001b[1;33m)\u001b[0m\u001b[1;33m\u001b[0m\u001b[1;33m\u001b[0m\u001b[0m\n\u001b[0m\u001b[0;32m    191\u001b[0m \u001b[1;33m\u001b[0m\u001b[0m\n\u001b[0;32m    192\u001b[0m     \u001b[1;32mdef\u001b[0m \u001b[0mpredict\u001b[0m\u001b[1;33m(\u001b[0m\u001b[0mself\u001b[0m\u001b[1;33m,\u001b[0m \u001b[0mX\u001b[0m\u001b[1;33m)\u001b[0m\u001b[1;33m:\u001b[0m\u001b[1;33m\u001b[0m\u001b[1;33m\u001b[0m\u001b[0m\n",
      "\u001b[1;32m~\\anaconda3\\lib\\site-packages\\sklearn\\neighbors\\_base.py\u001b[0m in \u001b[0;36m_fit\u001b[1;34m(self, X, y)\u001b[0m\n\u001b[0;32m    361\u001b[0m         \u001b[1;32mif\u001b[0m \u001b[0mself\u001b[0m\u001b[1;33m.\u001b[0m\u001b[0m_get_tags\u001b[0m\u001b[1;33m(\u001b[0m\u001b[1;33m)\u001b[0m\u001b[1;33m[\u001b[0m\u001b[1;34m\"requires_y\"\u001b[0m\u001b[1;33m]\u001b[0m\u001b[1;33m:\u001b[0m\u001b[1;33m\u001b[0m\u001b[1;33m\u001b[0m\u001b[0m\n\u001b[0;32m    362\u001b[0m             \u001b[1;32mif\u001b[0m \u001b[1;32mnot\u001b[0m \u001b[0misinstance\u001b[0m\u001b[1;33m(\u001b[0m\u001b[0mX\u001b[0m\u001b[1;33m,\u001b[0m \u001b[1;33m(\u001b[0m\u001b[0mKDTree\u001b[0m\u001b[1;33m,\u001b[0m \u001b[0mBallTree\u001b[0m\u001b[1;33m,\u001b[0m \u001b[0mNeighborsBase\u001b[0m\u001b[1;33m)\u001b[0m\u001b[1;33m)\u001b[0m\u001b[1;33m:\u001b[0m\u001b[1;33m\u001b[0m\u001b[1;33m\u001b[0m\u001b[0m\n\u001b[1;32m--> 363\u001b[1;33m                 X, y = self._validate_data(X, y, accept_sparse=\"csr\",\n\u001b[0m\u001b[0;32m    364\u001b[0m                                            multi_output=True)\n\u001b[0;32m    365\u001b[0m \u001b[1;33m\u001b[0m\u001b[0m\n",
      "\u001b[1;32m~\\anaconda3\\lib\\site-packages\\sklearn\\base.py\u001b[0m in \u001b[0;36m_validate_data\u001b[1;34m(self, X, y, reset, validate_separately, **check_params)\u001b[0m\n\u001b[0;32m    431\u001b[0m                 \u001b[0my\u001b[0m \u001b[1;33m=\u001b[0m \u001b[0mcheck_array\u001b[0m\u001b[1;33m(\u001b[0m\u001b[0my\u001b[0m\u001b[1;33m,\u001b[0m \u001b[1;33m**\u001b[0m\u001b[0mcheck_y_params\u001b[0m\u001b[1;33m)\u001b[0m\u001b[1;33m\u001b[0m\u001b[1;33m\u001b[0m\u001b[0m\n\u001b[0;32m    432\u001b[0m             \u001b[1;32melse\u001b[0m\u001b[1;33m:\u001b[0m\u001b[1;33m\u001b[0m\u001b[1;33m\u001b[0m\u001b[0m\n\u001b[1;32m--> 433\u001b[1;33m                 \u001b[0mX\u001b[0m\u001b[1;33m,\u001b[0m \u001b[0my\u001b[0m \u001b[1;33m=\u001b[0m \u001b[0mcheck_X_y\u001b[0m\u001b[1;33m(\u001b[0m\u001b[0mX\u001b[0m\u001b[1;33m,\u001b[0m \u001b[0my\u001b[0m\u001b[1;33m,\u001b[0m \u001b[1;33m**\u001b[0m\u001b[0mcheck_params\u001b[0m\u001b[1;33m)\u001b[0m\u001b[1;33m\u001b[0m\u001b[1;33m\u001b[0m\u001b[0m\n\u001b[0m\u001b[0;32m    434\u001b[0m             \u001b[0mout\u001b[0m \u001b[1;33m=\u001b[0m \u001b[0mX\u001b[0m\u001b[1;33m,\u001b[0m \u001b[0my\u001b[0m\u001b[1;33m\u001b[0m\u001b[1;33m\u001b[0m\u001b[0m\n\u001b[0;32m    435\u001b[0m \u001b[1;33m\u001b[0m\u001b[0m\n",
      "\u001b[1;32m~\\anaconda3\\lib\\site-packages\\sklearn\\utils\\validation.py\u001b[0m in \u001b[0;36minner_f\u001b[1;34m(*args, **kwargs)\u001b[0m\n\u001b[0;32m     61\u001b[0m             \u001b[0mextra_args\u001b[0m \u001b[1;33m=\u001b[0m \u001b[0mlen\u001b[0m\u001b[1;33m(\u001b[0m\u001b[0margs\u001b[0m\u001b[1;33m)\u001b[0m \u001b[1;33m-\u001b[0m \u001b[0mlen\u001b[0m\u001b[1;33m(\u001b[0m\u001b[0mall_args\u001b[0m\u001b[1;33m)\u001b[0m\u001b[1;33m\u001b[0m\u001b[1;33m\u001b[0m\u001b[0m\n\u001b[0;32m     62\u001b[0m             \u001b[1;32mif\u001b[0m \u001b[0mextra_args\u001b[0m \u001b[1;33m<=\u001b[0m \u001b[1;36m0\u001b[0m\u001b[1;33m:\u001b[0m\u001b[1;33m\u001b[0m\u001b[1;33m\u001b[0m\u001b[0m\n\u001b[1;32m---> 63\u001b[1;33m                 \u001b[1;32mreturn\u001b[0m \u001b[0mf\u001b[0m\u001b[1;33m(\u001b[0m\u001b[1;33m*\u001b[0m\u001b[0margs\u001b[0m\u001b[1;33m,\u001b[0m \u001b[1;33m**\u001b[0m\u001b[0mkwargs\u001b[0m\u001b[1;33m)\u001b[0m\u001b[1;33m\u001b[0m\u001b[1;33m\u001b[0m\u001b[0m\n\u001b[0m\u001b[0;32m     64\u001b[0m \u001b[1;33m\u001b[0m\u001b[0m\n\u001b[0;32m     65\u001b[0m             \u001b[1;31m# extra_args > 0\u001b[0m\u001b[1;33m\u001b[0m\u001b[1;33m\u001b[0m\u001b[0m\n",
      "\u001b[1;32m~\\anaconda3\\lib\\site-packages\\sklearn\\utils\\validation.py\u001b[0m in \u001b[0;36mcheck_X_y\u001b[1;34m(X, y, accept_sparse, accept_large_sparse, dtype, order, copy, force_all_finite, ensure_2d, allow_nd, multi_output, ensure_min_samples, ensure_min_features, y_numeric, estimator)\u001b[0m\n\u001b[0;32m    886\u001b[0m         \u001b[0my\u001b[0m \u001b[1;33m=\u001b[0m \u001b[0my\u001b[0m\u001b[1;33m.\u001b[0m\u001b[0mastype\u001b[0m\u001b[1;33m(\u001b[0m\u001b[0mnp\u001b[0m\u001b[1;33m.\u001b[0m\u001b[0mfloat64\u001b[0m\u001b[1;33m)\u001b[0m\u001b[1;33m\u001b[0m\u001b[1;33m\u001b[0m\u001b[0m\n\u001b[0;32m    887\u001b[0m \u001b[1;33m\u001b[0m\u001b[0m\n\u001b[1;32m--> 888\u001b[1;33m     \u001b[0mcheck_consistent_length\u001b[0m\u001b[1;33m(\u001b[0m\u001b[0mX\u001b[0m\u001b[1;33m,\u001b[0m \u001b[0my\u001b[0m\u001b[1;33m)\u001b[0m\u001b[1;33m\u001b[0m\u001b[1;33m\u001b[0m\u001b[0m\n\u001b[0m\u001b[0;32m    889\u001b[0m \u001b[1;33m\u001b[0m\u001b[0m\n\u001b[0;32m    890\u001b[0m     \u001b[1;32mreturn\u001b[0m \u001b[0mX\u001b[0m\u001b[1;33m,\u001b[0m \u001b[0my\u001b[0m\u001b[1;33m\u001b[0m\u001b[1;33m\u001b[0m\u001b[0m\n",
      "\u001b[1;32m~\\anaconda3\\lib\\site-packages\\sklearn\\utils\\validation.py\u001b[0m in \u001b[0;36mcheck_consistent_length\u001b[1;34m(*arrays)\u001b[0m\n\u001b[0;32m    317\u001b[0m     \u001b[0muniques\u001b[0m \u001b[1;33m=\u001b[0m \u001b[0mnp\u001b[0m\u001b[1;33m.\u001b[0m\u001b[0munique\u001b[0m\u001b[1;33m(\u001b[0m\u001b[0mlengths\u001b[0m\u001b[1;33m)\u001b[0m\u001b[1;33m\u001b[0m\u001b[1;33m\u001b[0m\u001b[0m\n\u001b[0;32m    318\u001b[0m     \u001b[1;32mif\u001b[0m \u001b[0mlen\u001b[0m\u001b[1;33m(\u001b[0m\u001b[0muniques\u001b[0m\u001b[1;33m)\u001b[0m \u001b[1;33m>\u001b[0m \u001b[1;36m1\u001b[0m\u001b[1;33m:\u001b[0m\u001b[1;33m\u001b[0m\u001b[1;33m\u001b[0m\u001b[0m\n\u001b[1;32m--> 319\u001b[1;33m         raise ValueError(\"Found input variables with inconsistent numbers of\"\n\u001b[0m\u001b[0;32m    320\u001b[0m                          \" samples: %r\" % [int(l) for l in lengths])\n\u001b[0;32m    321\u001b[0m \u001b[1;33m\u001b[0m\u001b[0m\n",
      "\u001b[1;31mValueError\u001b[0m: Found input variables with inconsistent numbers of samples: [8, 9]"
     ]
    }
   ],
   "source": [
    "model.fit(X_train_scaled, y_train) \n",
    "y_pred=model.predict(X_test_scaled)\n",
    "\n",
    "MAE=mean_absolute_error(y_test, y_pred) \n",
    "MSE=mean_squared_error(y_test, y_pred)\n",
    "\n",
    "print(f'MAE:{MAE}') \n",
    "print(f'MSE:{MSE}')"
   ]
  },
  {
   "cell_type": "code",
   "execution_count": null,
   "id": "60297a5a",
   "metadata": {},
   "outputs": [],
   "source": []
  },
  {
   "cell_type": "code",
   "execution_count": null,
   "id": "15e869ab",
   "metadata": {},
   "outputs": [],
   "source": []
  }
 ],
 "metadata": {
  "kernelspec": {
   "display_name": "Python 3 (ipykernel)",
   "language": "python",
   "name": "python3"
  },
  "language_info": {
   "codemirror_mode": {
    "name": "ipython",
    "version": 3
   },
   "file_extension": ".py",
   "mimetype": "text/x-python",
   "name": "python",
   "nbconvert_exporter": "python",
   "pygments_lexer": "ipython3",
   "version": "3.9.7"
  }
 },
 "nbformat": 4,
 "nbformat_minor": 5
}
